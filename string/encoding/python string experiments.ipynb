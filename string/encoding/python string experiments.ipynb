{
 "cells": [
  {
   "cell_type": "code",
   "execution_count": 3,
   "metadata": {
    "collapsed": false
   },
   "outputs": [
    {
     "name": "stdout",
     "output_type": "stream",
     "text": [
      "spam\n",
      "b'spam'\n"
     ]
    }
   ],
   "source": [
    "s = 'spam'\n",
    "b = b'spam'\n",
    "print(s)\n",
    "print(b)"
   ]
  },
  {
   "cell_type": "markdown",
   "metadata": {},
   "source": [
    "### Encode and Decode"
   ]
  },
  {
   "cell_type": "code",
   "execution_count": 5,
   "metadata": {
    "collapsed": false
   },
   "outputs": [
    {
     "name": "stdout",
     "output_type": "stream",
     "text": [
      "b'spam' b'spam' spam spam\n"
     ]
    }
   ],
   "source": [
    "b1 = s.encode()\n",
    "b2 = bytes(s, encoding='ascii')\n",
    "s1 = b.decode()\n",
    "s2 = str(b, encoding='ascii')\n",
    "print(b1, b2, s1, s2)"
   ]
  },
  {
   "cell_type": "code",
   "execution_count": 7,
   "metadata": {
    "collapsed": false
   },
   "outputs": [
    {
     "name": "stdout",
     "output_type": "stream",
     "text": [
      "darwin\n",
      "utf-8\n"
     ]
    }
   ],
   "source": [
    "import sys\n",
    "print(sys.platform)\n",
    "print(sys.getdefaultencoding())"
   ]
  },
  {
   "cell_type": "markdown",
   "metadata": {},
   "source": [
    "### Coding Unicode Strings"
   ]
  },
  {
   "cell_type": "code",
   "execution_count": 8,
   "metadata": {
    "collapsed": false
   },
   "outputs": [
    {
     "name": "stdout",
     "output_type": "stream",
     "text": [
      "88 X\n"
     ]
    }
   ],
   "source": [
    "x_en = ord('X')\n",
    "x_de = chr(88)\n",
    "print(x_en, x_de)"
   ]
  },
  {
   "cell_type": "code",
   "execution_count": 10,
   "metadata": {
    "collapsed": false
   },
   "outputs": [
    {
     "name": "stdout",
     "output_type": "stream",
     "text": [
      "Äè Äè\n",
      "b'\\xc3\\x84\\xc3\\xa8' b'\\xc3\\x84\\xc3\\xa8'\n"
     ]
    }
   ],
   "source": [
    "s_na = '\\u00c4\\u00e8'\n",
    "s2_na = '\\xc4\\xe8'\n",
    "print(s_na, s2_na)\n",
    "\n",
    "b_na = s_na.encode()\n",
    "b2_na = s2_na.encode()\n",
    "print(b_na, b2_na)"
   ]
  },
  {
   "cell_type": "markdown",
   "metadata": {},
   "source": [
    "### Text and Binary Files"
   ]
  },
  {
   "cell_type": "code",
   "execution_count": 11,
   "metadata": {
    "collapsed": true
   },
   "outputs": [],
   "source": [
    "file = open('temp', 'w')\n",
    "size = file.write('abc\\n')\n",
    "file.close()"
   ]
  },
  {
   "cell_type": "code",
   "execution_count": 13,
   "metadata": {
    "collapsed": false
   },
   "outputs": [
    {
     "name": "stdout",
     "output_type": "stream",
     "text": [
      "'abc\\n'\n",
      "abc\n",
      "\n"
     ]
    }
   ],
   "source": [
    "file = open('temp')\n",
    "text = file.read()\n",
    "print(repr(text))\n",
    "print(text)"
   ]
  },
  {
   "cell_type": "code",
   "execution_count": null,
   "metadata": {
    "collapsed": true
   },
   "outputs": [],
   "source": []
  }
 ],
 "metadata": {
  "kernelspec": {
   "display_name": "experiments",
   "language": "python",
   "name": "experiments"
  },
  "language_info": {
   "codemirror_mode": {
    "name": "ipython",
    "version": 3
   },
   "file_extension": ".py",
   "mimetype": "text/x-python",
   "name": "python",
   "nbconvert_exporter": "python",
   "pygments_lexer": "ipython3",
   "version": "3.5.1"
  }
 },
 "nbformat": 4,
 "nbformat_minor": 0
}
